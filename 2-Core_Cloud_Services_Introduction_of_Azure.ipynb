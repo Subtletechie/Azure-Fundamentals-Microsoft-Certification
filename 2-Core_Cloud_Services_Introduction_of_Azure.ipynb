{
 "cells": [
  {
   "cell_type": "markdown",
   "metadata": {},
   "source": [
    "# Core Cloud Services - Introduction to Azure\n",
    "## Tour on Azure services\n",
    "Azure has a wide range of services and features. The most commonly used categories are:\n",
    "- __Compute__: Azure VMs, Kubernetes (enables management of a cluster of VMs that run containerized services).\n",
    "- __Networking__: Links computer ressources and provides access to applications. Azure Virtual Network, Load Balancer...\n",
    "- __Storage__: Blob storage (storage service for very large objects), File storage. All these services are durable, secure, scalable, managed and accessible.\n",
    "- __Mobile__: allows creating mobile backend services for iOS, Android and Windows.\n",
    "- __Databases__: Azure Cosmos DB (globally distributed database that supports NoSQL), SQL Database.\n",
    "- __Web__: Builds and hosts web apps and HTTP-based web services. Azure App Service, Notification Hubs\n",
    "- __Internet of Things__: IoT Central, Azure IoT Hub.\n",
    "- __Big Data__: Azure SQL Data Warehouse (runs analytics at a massive scale using a cloud based Enterprise Data Warehouse (EDW) that leverages massive parallel processing (MPP) to run complex queries quickly on petabytes of data), Azure Databricks (Collaborative Apache-Spark based analytics service that can be integrated with other Azure services).\n",
    "- __Artificial Intelligence__: Azure Machine Learning Service and Machine Learning Studion (drag-and-drop)\n",
    "- __DevOps__: DevOps (Development and Operations) brings together people, processes, and technology, automating software delivery to provide continuous value to your users.\n",
    "\n",
    "## Create a Virtual Machine\n",
    "A snapshit of a running VM is called an _image_. Azure provides images Windows and several flavors for Linux. You can also creato your own preconfigured images to make deployments go faster.\n",
    "### What defines a virtual machine on Azure?\n",
    "Here are some factors defining a VM.\n",
    "- __Size__ : defines the processor's speed, amount of memory, storage and expected network bandwidth.\n",
    "- __Region__ : Where the data center on which you create the VM is located.\n",
    "- __Network__ : A virtual network is a logically isolated network on Azure. Each virtual machine on Azure is associated with a virtual network.\n",
    "- __Ressource groups__ : Virtual machines and other cloud resources are grouped into logical containers called resource groups.  Groups are typically used to organize sets of resources that are deployed together as part of an application or service.\n",
    "\n",
    "### Creating a Virtual Machine\n",
    "We can create our VM using Azure Cloud Shell and Azure CLI.\n",
    "#### Azure Cloud Shell\n",
    "Azure Cloud Shell is a browser-based command line experience for managing and developping Azure ressources. Like an interactive console you run in the cloud. It provides two experiences to choose from: Bash and Power-Shell.\n",
    "#### Creating ressources in Azure\n",
    "The first thing usually to do is create a ressource group. This allows us to administer all the VMs, disks, network interfaces and other elements.\n",
    "#### Steps for creating a VM\n",
    "- Create a username and generate a random password\n",
    "- Create the machine specifying: name, resource group, image, size, location, admin username and password\n",
    "- Check it has been correctly created using the command \"az vm get-instance-view\"\n",
    "\n",
    "### Add a server\n",
    "Once the VM has been created, we can start adding services, for example, a web server.<br>\n",
    "To configure a VM, you have several choices. You can connect directly and interactively configure your system. For example, on Windows systems you can create a Remote Desktop session to connect to the UI of your remote Windows computer as if you were seated at it. On Linux systems, you can create an SSH connection to securely work with your remote Linux system from the terminal.<br>\n",
    "Here, we configured IIS remotely from the Cloud Shell session using a feature of Windows-based Azure virtual machines called the Custom Script Extension.\n",
    "\n",
    "### IIS\n",
    "Internet Information Services, or IIS, is a web server that runs on Windows. You can use IIS to serve standard web content (HTML, CSS, and JavaScript) or run ASP.NET and other kinds of web applications."
   ]
  }
 ],
 "metadata": {
  "kernelspec": {
   "display_name": "Python 3",
   "language": "python",
   "name": "python3"
  },
  "language_info": {
   "codemirror_mode": {
    "name": "ipython",
    "version": 3
   },
   "file_extension": ".py",
   "mimetype": "text/x-python",
   "name": "python",
   "nbconvert_exporter": "python",
   "pygments_lexer": "ipython3",
   "version": "3.7.1"
  }
 },
 "nbformat": 4,
 "nbformat_minor": 2
}
